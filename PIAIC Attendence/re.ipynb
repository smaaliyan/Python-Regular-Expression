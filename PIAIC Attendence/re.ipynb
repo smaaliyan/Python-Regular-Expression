{
 "cells": [
  {
   "cell_type": "markdown",
   "metadata": {},
   "source": [
    "# REGULAR EXPRESSION"
   ]
  },
  {
   "cell_type": "code",
   "execution_count": 1,
   "metadata": {},
   "outputs": [],
   "source": [
    "import pandas as pd\n",
    "import re"
   ]
  },
  {
   "cell_type": "code",
   "execution_count": 2,
   "metadata": {},
   "outputs": [],
   "source": [
    "with open('data.txt', 'r', encoding='utf-8') as f:\n",
    "    data = f.read()\n",
    "data = data.upper()\n"
   ]
  },
  {
   "cell_type": "code",
   "execution_count": 3,
   "metadata": {},
   "outputs": [],
   "source": [
    "f1_data = re.findall(r'(\\d{2}:\\d{2}:\\d{2}) FROM (.+?) TO EVERYONE : (PIAIC ?_?-?\\d{5,6})',data)\n",
    "f2_data = re.findall(r'(\\d{2}:\\d{2}:\\d{2}) FROM (.+?) TO EVERYONE : (CNC ?_?-?\\d{5,6})',data)\n",
    "f3_data = re.findall(r'(\\d{2}:\\d{2}:\\d{2}) FROM (.+?) TO EVERYONE : (AIC ?_?-?\\d{5,6})',data)\n",
    "f4_data = re.findall(r'(\\d{2}:\\d{2}:\\d{2}) FROM (.+?) TO EVERYONE : (IOT ?_?-?\\d{5,6})',data)\n",
    "f_data = f1_data + f2_data + f3_data + f4_data\n",
    "\n"
   ]
  },
  {
   "cell_type": "code",
   "execution_count": 4,
   "metadata": {},
   "outputs": [
    {
     "data": {
      "text/html": [
       "<div>\n",
       "<style scoped>\n",
       "    .dataframe tbody tr th:only-of-type {\n",
       "        vertical-align: middle;\n",
       "    }\n",
       "\n",
       "    .dataframe tbody tr th {\n",
       "        vertical-align: top;\n",
       "    }\n",
       "\n",
       "    .dataframe thead th {\n",
       "        text-align: right;\n",
       "    }\n",
       "</style>\n",
       "<table border=\"1\" class=\"dataframe\">\n",
       "  <thead>\n",
       "    <tr style=\"text-align: right;\">\n",
       "      <th></th>\n",
       "      <th>Time</th>\n",
       "      <th>Name</th>\n",
       "      <th>Roll Number</th>\n",
       "    </tr>\n",
       "  </thead>\n",
       "  <tbody>\n",
       "    <tr>\n",
       "      <th>0</th>\n",
       "      <td>09:06:45</td>\n",
       "      <td>MUHAMMED SHAHID</td>\n",
       "      <td>PIAIC134239</td>\n",
       "    </tr>\n",
       "    <tr>\n",
       "      <th>1</th>\n",
       "      <td>09:06:48</td>\n",
       "      <td>JUNAID ALI</td>\n",
       "      <td>PIAIC174125</td>\n",
       "    </tr>\n",
       "    <tr>\n",
       "      <th>2</th>\n",
       "      <td>09:07:47</td>\n",
       "      <td>ANEEQ</td>\n",
       "      <td>PIAIC172924</td>\n",
       "    </tr>\n",
       "    <tr>\n",
       "      <th>3</th>\n",
       "      <td>09:09:30</td>\n",
       "      <td>AFTAB SUKHERA</td>\n",
       "      <td>PIAIC56511</td>\n",
       "    </tr>\n",
       "    <tr>\n",
       "      <th>4</th>\n",
       "      <td>09:11:04</td>\n",
       "      <td>FOZIA SHAREEN</td>\n",
       "      <td>PIAIC165097</td>\n",
       "    </tr>\n",
       "    <tr>\n",
       "      <th>...</th>\n",
       "      <td>...</td>\n",
       "      <td>...</td>\n",
       "      <td>...</td>\n",
       "    </tr>\n",
       "    <tr>\n",
       "      <th>398</th>\n",
       "      <td>11:40:11</td>\n",
       "      <td>PIAIC95349 ALI</td>\n",
       "      <td>AIC-95349</td>\n",
       "    </tr>\n",
       "    <tr>\n",
       "      <th>399</th>\n",
       "      <td>11:41:14</td>\n",
       "      <td>SHAHEER BAIG</td>\n",
       "      <td>AIC-169519</td>\n",
       "    </tr>\n",
       "    <tr>\n",
       "      <th>400</th>\n",
       "      <td>11:41:44</td>\n",
       "      <td>IRTIZA KHAN [PIAIC 171375]</td>\n",
       "      <td>AIC-171375</td>\n",
       "    </tr>\n",
       "    <tr>\n",
       "      <th>401</th>\n",
       "      <td>12:05:36</td>\n",
       "      <td>SHAHEER BAIG</td>\n",
       "      <td>AIC-169519</td>\n",
       "    </tr>\n",
       "    <tr>\n",
       "      <th>402</th>\n",
       "      <td>11:01:08</td>\n",
       "      <td>ALI ISMAIL HUSSAIN</td>\n",
       "      <td>IOT048687</td>\n",
       "    </tr>\n",
       "  </tbody>\n",
       "</table>\n",
       "<p>403 rows × 3 columns</p>\n",
       "</div>"
      ],
      "text/plain": [
       "         Time                        Name  Roll Number\n",
       "0    09:06:45             MUHAMMED SHAHID  PIAIC134239\n",
       "1    09:06:48                  JUNAID ALI  PIAIC174125\n",
       "2    09:07:47                       ANEEQ  PIAIC172924\n",
       "3    09:09:30               AFTAB SUKHERA   PIAIC56511\n",
       "4    09:11:04               FOZIA SHAREEN  PIAIC165097\n",
       "..        ...                         ...          ...\n",
       "398  11:40:11              PIAIC95349 ALI    AIC-95349\n",
       "399  11:41:14                SHAHEER BAIG   AIC-169519\n",
       "400  11:41:44  IRTIZA KHAN [PIAIC 171375]   AIC-171375\n",
       "401  12:05:36                SHAHEER BAIG   AIC-169519\n",
       "402  11:01:08          ALI ISMAIL HUSSAIN    IOT048687\n",
       "\n",
       "[403 rows x 3 columns]"
      ]
     },
     "execution_count": 4,
     "metadata": {},
     "output_type": "execute_result"
    }
   ],
   "source": [
    "df = pd.DataFrame(f_data, columns=['Time','Name','Roll Number'])\n",
    "df"
   ]
  },
  {
   "cell_type": "code",
   "execution_count": 5,
   "metadata": {},
   "outputs": [],
   "source": [
    "final = df.drop_duplicates(subset=['Name','Roll Number'])"
   ]
  },
  {
   "cell_type": "code",
   "execution_count": 6,
   "metadata": {},
   "outputs": [
    {
     "name": "stdout",
     "output_type": "stream",
     "text": [
      "         Time                                 Name  Roll Number\n",
      "0    09:06:45                      MUHAMMED SHAHID  PIAIC134239\n",
      "1    09:06:48                           JUNAID ALI  PIAIC174125\n",
      "2    09:07:47                                ANEEQ  PIAIC172924\n",
      "3    09:09:30                        AFTAB SUKHERA   PIAIC56511\n",
      "4    09:11:04                        FOZIA SHAREEN  PIAIC165097\n",
      "..        ...                                  ...          ...\n",
      "395  11:38:09  MUHAMMAD JUNAID HUSSAIN-PIAIC187530   AIC-185730\n",
      "396  11:38:23  MUHAMMAD JUNAID HUSSAIN-PIAIC187530   AIC-187530\n",
      "397  11:40:01                               ARSHAD   AIC-168092\n",
      "400  11:41:44           IRTIZA KHAN [PIAIC 171375]   AIC-171375\n",
      "402  11:01:08                   ALI ISMAIL HUSSAIN    IOT048687\n",
      "\n",
      "[263 rows x 3 columns]\n"
     ]
    }
   ],
   "source": [
    "print(final)"
   ]
  },
  {
   "cell_type": "code",
   "execution_count": null,
   "metadata": {},
   "outputs": [],
   "source": []
  }
 ],
 "metadata": {
  "kernelspec": {
   "display_name": "Python 3",
   "language": "python",
   "name": "python3"
  },
  "language_info": {
   "codemirror_mode": {
    "name": "ipython",
    "version": 3
   },
   "file_extension": ".py",
   "mimetype": "text/x-python",
   "name": "python",
   "nbconvert_exporter": "python",
   "pygments_lexer": "ipython3",
   "version": "3.7.6"
  }
 },
 "nbformat": 4,
 "nbformat_minor": 4
}
